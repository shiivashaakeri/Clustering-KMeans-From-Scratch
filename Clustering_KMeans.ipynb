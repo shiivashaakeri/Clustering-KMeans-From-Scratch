{
  "nbformat": 4,
  "nbformat_minor": 0,
  "metadata": {
    "colab": {
      "name": "IS_HW4_Q2.ipynb",
      "provenance": [],
      "collapsed_sections": []
    },
    "kernelspec": {
      "name": "python3",
      "display_name": "Python 3"
    },
    "language_info": {
      "name": "python"
    }
  },
  "cells": [
    {
      "cell_type": "code",
      "execution_count": null,
      "metadata": {
        "id": "2BUJUR1uXfhh"
      },
      "outputs": [],
      "source": [
        "import numpy as np\n",
        "import pandas as pd\n",
        "import matplotlib.pyplot as plt\n",
        "import math\n",
        "from sklearn import datasets"
      ]
    },
    {
      "cell_type": "code",
      "source": [
        "class KMeans:\n",
        "    def __init__(self, K=5, maxIter=20):\n",
        "        self.K = K\n",
        "        self.maxIter = maxIter\n",
        "        self.centroids = {}\n",
        "\n",
        "    def calcDistancesFromCentroids(self, datum):\n",
        "        distances = []\n",
        "        for key, centroid in self.centroids.items():\n",
        "            # dist = 0\n",
        "            # for i in range(datum.shape[0]):\n",
        "            #     dist += math.pow(datum[i] - centroid[i], 2)\n",
        "            # distances.append(math.sqrt(dist))\n",
        "            distances.append(np.linalg.norm(datum - centroid))\n",
        "        return distances   \n",
        "\n",
        "    def argmin(self, lst):\n",
        "        return lst.index(min(lst))     \n",
        "\n",
        "    def fit(self, data):\n",
        "        for i in range(self.K):\n",
        "            self.centroids[i] = data[i]\n",
        "\n",
        "        sumOfCentroidDistances = []\n",
        "        for i in range(self.maxIter):\n",
        "            self.clusterings = {}\n",
        "\n",
        "            for i in range(self.K):\n",
        "                self.clusterings[i] = []\n",
        "\n",
        "            for datum in data:\n",
        "                clusterID = self.argmin(self.calcDistancesFromCentroids(datum))\n",
        "                self.clusterings[clusterID].append(datum)\n",
        "\n",
        "            centroidDistance = 0\n",
        "            for clusterID, cluster in self.clusterings.items():\n",
        "                if len(cluster) == 0:\n",
        "                    continue\n",
        "                centroidDistance += np.sum(cluster - self.centroids[clusterID])\n",
        "                self.centroids[clusterID] = np.average(cluster, axis=0)\n",
        "\n",
        "            sumOfCentroidDistances.append(centroidDistance)\n",
        "\n",
        "\n",
        "        return sumOfCentroidDistances\n",
        "\n",
        "    def getMetrics(self):\n",
        "        meanDists = []\n",
        "        variances = []\n",
        "\n",
        "        for clusterID, cluster in self.clusterings.items():\n",
        "            if len(cluster) == 0:\n",
        "                meanDists.append('Empty Cluster')\n",
        "                variances.append('Empty Cluster')\n",
        "                continue\n",
        "            meanDists.append(np.mean(cluster, axis=0))\n",
        "            variances.append(np.var(cluster))\n",
        "\n",
        "        return meanDists, variances\n",
        "\n",
        "\n",
        "    def predict(self, datum):\n",
        "        return self.argmin(self.calcDistancesFromCentroids(datum))\n",
        "\n",
        "    def getIntraClusterDistances(self):\n",
        "        distances = []\n",
        "        for clusterID, cluster in self.clusterings.items():\n",
        "            if len(cluster) == 0:\n",
        "                distances.append('Empty Cluster')\n",
        "                continue\n",
        "            distance = []\n",
        "            for datum in cluster:\n",
        "                distance.append(np.linalg.norm(datum - self.centroids[clusterID]))\n",
        "            \n",
        "            distanceVar = np.var(distance)\n",
        "            distanceVarMean = np.mean(distanceVar)\n",
        "            distances.append(distanceVarMean)\n",
        "        \n",
        "        return distances\n",
        "\n",
        "    def getInterClusterDistances(self):\n",
        "        allDistances = []\n",
        "        for clusterID, cluster in self.clusterings.items():\n",
        "            distances = []\n",
        "            if len(cluster) == 0:\n",
        "                allDistances.append('Empty Cluster')\n",
        "                continue\n",
        "            for secClusterID, secCluster in self.clusterings.items():\n",
        "                if len(secCluster) == 0:\n",
        "                    continue\n",
        "                distances.append(np.linalg.norm(self.centroids[clusterID] - self.centroids[secClusterID]))\n",
        "                \n",
        "            allDistances.append(np.median(distances))\n",
        "        return allDistances\n",
        "\n",
        "                "
      ],
      "metadata": {
        "id": "UFc8fsaGZpps"
      },
      "execution_count": 35,
      "outputs": []
    },
    {
      "cell_type": "code",
      "source": [
        "iris = datasets.load_iris()\n",
        "\n",
        "X = pd.DataFrame(iris.data, columns=['Sepal Length', 'Sepal Width', 'Petal Length', 'Petal Width']).to_numpy()\n",
        "Y = pd.DataFrame(iris.target, columns=['Classes']).to_numpy()"
      ],
      "metadata": {
        "id": "C13rhS-tY84A"
      },
      "execution_count": 36,
      "outputs": []
    },
    {
      "cell_type": "code",
      "source": [
        "print(X.shape, Y.shape)"
      ],
      "metadata": {
        "colab": {
          "base_uri": "https://localhost:8080/"
        },
        "id": "glKFGchIfA-B",
        "outputId": "63f42ec6-e00b-4084-8edf-c001cf8fa7e8"
      },
      "execution_count": 37,
      "outputs": [
        {
          "output_type": "stream",
          "name": "stdout",
          "text": [
            "(150, 4) (150, 1)\n"
          ]
        }
      ]
    },
    {
      "cell_type": "code",
      "source": [
        "model = KMeans(K=5, maxIter=150)\n",
        "hist = model.fit(X)     \n",
        "\n",
        "plotX = list(range(len(hist)))\n",
        "plt.plot(plotX, hist)\n",
        "xTicks = [plotX[int((len(plotX) - 1) / 10 * i)] for i in range(10)]\n",
        "plt.xticks(xTicks)\n",
        "plt.show()\n",
        "\n",
        "meanDists, variances = model.getMetrics()\n",
        "interClusterDistances = model.getInterClusterDistances()\n",
        "intraClusterDistances = model.getIntraClusterDistances()\n",
        "for i in range(len(meanDists)):\n",
        "    print('\\nFor cluster %d:' % i)\n",
        "    print('Mean Point:', meanDists[i])\n",
        "    print('Variance:', variances[i])\n",
        "    if type(meanDists[i]) == str:\n",
        "        print('Intra-to-Inter Ratio: Empty Cluster')\n",
        "    else:\n",
        "        print('Intra-to-Inter Ratio:', intraClusterDistances[i] / interClusterDistances[i])"
      ],
      "metadata": {
        "colab": {
          "base_uri": "https://localhost:8080/",
          "height": 690
        },
        "id": "IGFFxtt3DcOJ",
        "outputId": "0d0c173c-904d-4fef-e3f2-2bd03b4d6acb"
      },
      "execution_count": 38,
      "outputs": [
        {
          "output_type": "display_data",
          "data": {
            "image/png": "[encoded data removed]",
            "text/plain": [
              "<Figure size 432x288 with 1 Axes>"
            ]
          },
          "metadata": {
            "needs_background": "light"
          }
        },
        {
          "output_type": "stream",
          "name": "stdout",
          "text": [
            "\n",
            "For cluster 0:\n",
            "Mean Point: [6.9125   3.1      5.846875 2.13125 ]\n",
            "Variance: 3.947416381835937\n",
            "Intra-to-Inter Ratio: 0.03676724665999027\n",
            "\n",
            "For cluster 1:\n",
            "Mean Point: [6.23658537 2.85853659 4.80731707 1.62195122]\n",
            "Variance: 3.225313429506246\n",
            "Intra-to-Inter Ratio: 0.02352678025881536\n",
            "\n",
            "For cluster 2:\n",
            "Mean Point: [4.70454545 3.12272727 1.41363636 0.2       ]\n",
            "Variance: 2.9453499483471073\n",
            "Intra-to-Inter Ratio: 0.011041682787037736\n",
            "\n",
            "For cluster 3:\n",
            "Mean Point: [5.52962963 2.62222222 3.94074074 1.21851852]\n",
            "Variance: 2.6281172839506173\n",
            "Intra-to-Inter Ratio: 0.02508160136364661\n",
            "\n",
            "For cluster 4:\n",
            "Mean Point: [5.24285714 3.66785714 1.5        0.28214286]\n",
            "Variance: 3.7128539540816328\n",
            "Intra-to-Inter Ratio: 0.009558287867482397\n"
          ]
        }
      ]
    },
    {
      "cell_type": "code",
      "source": [
        "model = KMeans(K=5, maxIter=5)\n",
        "hist = model.fit(X)     \n",
        "\n",
        "plotX = list(range(len(hist)))\n",
        "plt.plot(plotX, hist)\n",
        "xTicks = [plotX[int((len(plotX) - 1) / 10 * i)] for i in range(10)]\n",
        "plt.xticks(xTicks)\n",
        "plt.show()\n",
        "\n",
        "meanDists, variances = model.getMetrics()\n",
        "interClusterDistances = model.getInterClusterDistances()\n",
        "intraClusterDistances = model.getIntraClusterDistances()\n",
        "for i in range(len(meanDists)):\n",
        "    print('\\nFor cluster %d:' % i)\n",
        "    print('Mean Point:', meanDists[i])\n",
        "    print('Variance:', variances[i])\n",
        "    if type(meanDists[i]) == str:\n",
        "        print('Intra-to-Inter Ratio: Empty Cluster')\n",
        "    else:\n",
        "        print('Intra-to-Inter Ratio:', intraClusterDistances[i] / interClusterDistances[i])"
      ],
      "metadata": {
        "colab": {
          "base_uri": "https://localhost:8080/",
          "height": 690
        },
        "id": "b91bV16o1FiS",
        "outputId": "e8c8c94e-955c-474f-b4f1-9303739550eb"
      },
      "execution_count": 39,
      "outputs": [
        {
          "output_type": "display_data",
          "data": {
            "image/png": "[encoded data removed]",
            "text/plain": [
              "<Figure size 432x288 with 1 Axes>"
            ]
          },
          "metadata": {
            "needs_background": "light"
          }
        },
        {
          "output_type": "stream",
          "name": "stdout",
          "text": [
            "\n",
            "For cluster 0:\n",
            "Mean Point: [6.69215686 3.01176471 5.54117647 1.98823529]\n",
            "Variance: 3.756548202614379\n",
            "Intra-to-Inter Ratio: 0.04997495965493878\n",
            "\n",
            "For cluster 1:\n",
            "Mean Point: [5.9        2.77674419 4.36511628 1.39767442]\n",
            "Variance: 2.9512395213628984\n",
            "Intra-to-Inter Ratio: 0.0274453838650963\n",
            "\n",
            "For cluster 2:\n",
            "Mean Point: [4.70454545 3.12272727 1.41363636 0.2       ]\n",
            "Variance: 2.9453499483471073\n",
            "Intra-to-Inter Ratio: 0.01378071145807191\n",
            "\n",
            "For cluster 3:\n",
            "Mean Point: [5.2        2.36666667 3.38333333 1.01666667]\n",
            "Variance: 2.373263888888889\n",
            "Intra-to-Inter Ratio: 0.004859460734228399\n",
            "\n",
            "For cluster 4:\n",
            "Mean Point: [5.24285714 3.66785714 1.5        0.28214286]\n",
            "Variance: 3.7128539540816328\n",
            "Intra-to-Inter Ratio: 0.01125042807461833\n"
          ]
        }
      ]
    },
    {
      "cell_type": "code",
      "source": [
        "model = KMeans(K=10, maxIter=150)\n",
        "hist = model.fit(X)   \n",
        "\n",
        "plotX = list(range(len(hist)))\n",
        "plt.plot(plotX, hist)\n",
        "xTicks = [plotX[int((len(plotX) - 1) / 10 * i)] for i in range(10)]\n",
        "plt.xticks(xTicks)\n",
        "plt.show()\n",
        "\n",
        "meanDists, variances = model.getMetrics()\n",
        "interClusterDistances = model.getInterClusterDistances()\n",
        "intraClusterDistances = model.getIntraClusterDistances()\n",
        "for i in range(len(meanDists)):\n",
        "    print('\\nFor cluster %d:' % i)\n",
        "    print('Mean Point:', meanDists[i])\n",
        "    print('Variance:', variances[i])\n",
        "    if type(meanDists[i]) == str:\n",
        "        print('Intra-to-Inter Ratio: Empty Cluster')\n",
        "    else:\n",
        "        print('Intra-to-Inter Ratio:', intraClusterDistances[i] / interClusterDistances[i])"
      ],
      "metadata": {
        "id": "u7MglsgRmtDH",
        "colab": {
          "base_uri": "https://localhost:8080/",
          "height": 1000
        },
        "outputId": "bf50a90f-6d0b-49aa-bad6-1506c1c8f4eb"
      },
      "execution_count": 40,
      "outputs": [
        {
          "output_type": "display_data",
          "data": {
            "image/png": "[encoded data removed]",
            "text/plain": [
              "<Figure size 432x288 with 1 Axes>"
            ]
          },
          "metadata": {
            "needs_background": "light"
          }
        },
        {
          "output_type": "stream",
          "name": "stdout",
          "text": [
            "\n",
            "For cluster 0:\n",
            "Mean Point: [5.36666667 3.53333333 1.5        0.23333333]\n",
            "Variance: 3.8415972222222217\n",
            "Intra-to-Inter Ratio: 0.0011626003123771996\n",
            "\n",
            "For cluster 1:\n",
            "Mean Point: [4.8875 3.0625 1.45   0.1875]\n",
            "Variance: 3.113427734375\n",
            "Intra-to-Inter Ratio: 0.00818742627950527\n",
            "\n",
            "For cluster 2:\n",
            "Mean Point: [4.6  3.18 1.42 0.2 ]\n",
            "Variance: 2.8165\n",
            "Intra-to-Inter Ratio: 0.007789804340705975\n",
            "\n",
            "For cluster 3:\n",
            "Mean Point: [5.52962963 2.62222222 3.94074074 1.21851852]\n",
            "Variance: 2.6281172839506173\n",
            "Intra-to-Inter Ratio: 0.023041703367764746\n",
            "\n",
            "For cluster 4:\n",
            "Mean Point: [5.4  3.97 1.53 0.29]\n",
            "Variance: 4.04874375\n",
            "Intra-to-Inter Ratio: 0.010953275968671333\n",
            "\n",
            "For cluster 5:\n",
            "Mean Point: [6.9125   3.1      5.846875 2.13125 ]\n",
            "Variance: 3.947416381835937\n",
            "Intra-to-Inter Ratio: 0.018702068630588518\n",
            "\n",
            "For cluster 6:\n",
            "Mean Point: [4.6  3.5  1.2  0.25]\n",
            "Variance: 3.0410937499999995\n",
            "Intra-to-Inter Ratio: 0.0\n",
            "\n",
            "For cluster 7:\n",
            "Mean Point: [5.01333333 3.46       1.50666667 0.28      ]\n",
            "Variance: 3.2999416666666663\n",
            "Intra-to-Inter Ratio: 0.01452047995556497\n",
            "\n",
            "For cluster 8:\n",
            "Mean Point: [4.4   2.8   1.275 0.2  ]\n",
            "Variance: 2.5396484375\n",
            "Intra-to-Inter Ratio: 0.017916212371157165\n",
            "\n",
            "For cluster 9:\n",
            "Mean Point: [6.23658537 2.85853659 4.80731707 1.62195122]\n",
            "Variance: 3.225313429506246\n",
            "Intra-to-Inter Ratio: 0.00841497931640381\n"
          ]
        }
      ]
    },
    {
      "cell_type": "code",
      "source": [
        "model = KMeans(K=10, maxIter=5)\n",
        "hist = model.fit(X)   \n",
        "\n",
        "plotX = list(range(len(hist)))\n",
        "plt.plot(plotX, hist)\n",
        "xTicks = [plotX[int((len(plotX) - 1) / 10 * i)] for i in range(10)]\n",
        "plt.xticks(xTicks)\n",
        "plt.show()\n",
        "\n",
        "meanDists, variances = model.getMetrics()\n",
        "interClusterDistances = model.getInterClusterDistances()\n",
        "intraClusterDistances = model.getIntraClusterDistances()\n",
        "for i in range(len(meanDists)):\n",
        "    print('\\nFor cluster %d:' % i)\n",
        "    print('Mean Point:', meanDists[i])\n",
        "    print('Variance:', variances[i])\n",
        "    if type(meanDists[i]) == str:\n",
        "        print('Intra-to-Inter Ratio: Empty Cluster')\n",
        "    else:\n",
        "        print('Intra-to-Inter Ratio:', intraClusterDistances[i] / interClusterDistances[i])"
      ],
      "metadata": {
        "colab": {
          "base_uri": "https://localhost:8080/",
          "height": 1000
        },
        "id": "J04leShd1QwX",
        "outputId": "8fd8720e-86b7-4b02-fad3-72002daa085e"
      },
      "execution_count": 41,
      "outputs": [
        {
          "output_type": "display_data",
          "data": {
            "image/png": "[encoded data removed]",
            "text/plain": [
              "<Figure size 432x288 with 1 Axes>"
            ]
          },
          "metadata": {
            "needs_background": "light"
          }
        },
        {
          "output_type": "stream",
          "name": "stdout",
          "text": [
            "\n",
            "For cluster 0:\n",
            "Mean Point: [5.36666667 3.53333333 1.5        0.23333333]\n",
            "Variance: 3.8415972222222217\n",
            "Intra-to-Inter Ratio: 0.0011626003123771996\n",
            "\n",
            "For cluster 1:\n",
            "Mean Point: [4.8875 3.0625 1.45   0.1875]\n",
            "Variance: 3.113427734375\n",
            "Intra-to-Inter Ratio: 0.00818742627950527\n",
            "\n",
            "For cluster 2:\n",
            "Mean Point: [4.6  3.18 1.42 0.2 ]\n",
            "Variance: 2.8165\n",
            "Intra-to-Inter Ratio: 0.007789804340705975\n",
            "\n",
            "For cluster 3:\n",
            "Mean Point: [5.    2.3   3.275 1.025]\n",
            "Variance: 2.125\n",
            "Intra-to-Inter Ratio: 0.00920556158429787\n",
            "\n",
            "For cluster 4:\n",
            "Mean Point: [5.4  3.97 1.53 0.29]\n",
            "Variance: 4.04874375\n",
            "Intra-to-Inter Ratio: 0.010953275968671333\n",
            "\n",
            "For cluster 5:\n",
            "Mean Point: [6.63220339 2.99830508 5.43050847 1.93728814]\n",
            "Variance: 3.6989404984199945\n",
            "Intra-to-Inter Ratio: 0.032787718637910704\n",
            "\n",
            "For cluster 6:\n",
            "Mean Point: [4.6  3.5  1.2  0.25]\n",
            "Variance: 3.0410937499999995\n",
            "Intra-to-Inter Ratio: 0.0\n",
            "\n",
            "For cluster 7:\n",
            "Mean Point: [5.01333333 3.46       1.50666667 0.28      ]\n",
            "Variance: 3.2999416666666663\n",
            "Intra-to-Inter Ratio: 0.01452047995556497\n",
            "\n",
            "For cluster 8:\n",
            "Mean Point: [4.4   2.8   1.275 0.2  ]\n",
            "Variance: 2.5396484375\n",
            "Intra-to-Inter Ratio: 0.017916212371157165\n",
            "\n",
            "For cluster 9:\n",
            "Mean Point: [5.80810811 2.73243243 4.24594595 1.32972973]\n",
            "Variance: 2.885439645726808\n",
            "Intra-to-Inter Ratio: 0.015887470046250064\n"
          ]
        }
      ]
    },
    {
      "cell_type": "code",
      "source": [
        "model = KMeans(K=20, maxIter=150)\n",
        "hist = model.fit(X)   \n",
        "plotX = list(range(len(hist)))\n",
        "plt.plot(plotX, hist)\n",
        "xTicks = [plotX[int((len(plotX) - 1) / 10 * i)] for i in range(10)]\n",
        "plt.xticks(xTicks)\n",
        "plt.show()\n",
        "\n",
        "meanDists, variances = model.getMetrics()\n",
        "interClusterDistances = model.getInterClusterDistances()\n",
        "intraClusterDistances = model.getIntraClusterDistances()\n",
        "for i in range(len(meanDists)):\n",
        "    print('\\nFor cluster %d:' % i)\n",
        "    print('Mean Point:', meanDists[i])\n",
        "    print('Variance:', variances[i])\n",
        "    if type(meanDists[i]) == str:\n",
        "        print('Intra-to-Inter Ratio: Empty Cluster')\n",
        "    else:\n",
        "        print('Intra-to-Inter Ratio:', intraClusterDistances[i] / interClusterDistances[i])"
      ],
      "metadata": {
        "id": "RYzT1L-_sadw",
        "outputId": "058799d6-b6ba-48cd-e560-7bb2d70f1c3f",
        "colab": {
          "base_uri": "https://localhost:8080/",
          "height": 1000
        }
      },
      "execution_count": 42,
      "outputs": [
        {
          "output_type": "display_data",
          "data": {
            "image/png": "[encoded data removed]",
            "text/plain": [
              "<Figure size 432x288 with 1 Axes>"
            ]
          },
          "metadata": {
            "needs_background": "light"
          }
        },
        {
          "output_type": "stream",
          "name": "stdout",
          "text": [
            "\n",
            "For cluster 0:\n",
            "Mean Point: [5.1        3.42857143 1.44285714 0.21428571]\n",
            "Variance: 3.492487244897959\n",
            "Intra-to-Inter Ratio: 0.0017292135077124479\n",
            "\n",
            "For cluster 1:\n",
            "Mean Point: [4.92 3.06 1.42 0.22]\n",
            "Variance: 3.1324750000000003\n",
            "Intra-to-Inter Ratio: 0.007346500958401732\n",
            "\n",
            "For cluster 2:\n",
            "Mean Point: [4.6  3.18 1.42 0.2 ]\n",
            "Variance: 2.8165\n",
            "Intra-to-Inter Ratio: 0.0058968961982989124\n",
            "\n",
            "For cluster 3:\n",
            "Mean Point: [5.    2.3   3.275 1.025]\n",
            "Variance: 2.125\n",
            "Intra-to-Inter Ratio: 0.009096304347563691\n",
            "\n",
            "For cluster 4:\n",
            "Mean Point: [4.96666667 3.56666667 1.36666667 0.2       ]\n",
            "Variance: 3.4518750000000007\n",
            "Intra-to-Inter Ratio: 0.0025271302020545314\n",
            "\n",
            "For cluster 5:\n",
            "Mean Point: [6.2525 2.855  4.815  1.625 ]\n",
            "Variance: 3.2447652343749995\n",
            "Intra-to-Inter Ratio: 0.00810248483874434\n",
            "\n",
            "For cluster 6:\n",
            "Mean Point: [4.6  3.5  1.2  0.25]\n",
            "Variance: 3.0410937499999995\n",
            "Intra-to-Inter Ratio: 0.0\n",
            "\n",
            "For cluster 7:\n",
            "Mean Point: [4.925 3.375 1.7   0.325]\n",
            "Variance: 3.0102734374999995\n",
            "Intra-to-Inter Ratio: 0.003761740457197648\n",
            "\n",
            "For cluster 8:\n",
            "Mean Point: [4.5 2.3 1.3 0.3]\n",
            "Variance: 2.42\n",
            "Intra-to-Inter Ratio: 0.0\n",
            "\n",
            "For cluster 9:\n",
            "Mean Point: Empty Cluster\n",
            "Variance: Empty Cluster\n",
            "Intra-to-Inter Ratio: Empty Cluster\n",
            "\n",
            "For cluster 10:\n",
            "Mean Point: [5.45       3.58333333 1.53333333 0.25      ]\n",
            "Variance: 3.9428993055555552\n",
            "Intra-to-Inter Ratio: 0.006615559334188084\n",
            "\n",
            "For cluster 11:\n",
            "Mean Point: [5.62083333 2.69166667 4.075      1.2625    ]\n",
            "Variance: 2.668802083333334\n",
            "Intra-to-Inter Ratio: 0.011899215723381684\n",
            "\n",
            "For cluster 12:\n",
            "Mean Point: [4.83333333 3.06666667 1.5        0.13333333]\n",
            "Variance: 3.0813888888888887\n",
            "Intra-to-Inter Ratio: 0.0006149577030284064\n",
            "\n",
            "For cluster 13:\n",
            "Mean Point: [4.36666667 2.96666667 1.26666667 0.16666667]\n",
            "Variance: 2.5774305555555554\n",
            "Intra-to-Inter Ratio: 0.002784525255033788\n",
            "\n",
            "For cluster 14:\n",
            "Mean Point: [5.8 4.  1.2 0.2]\n",
            "Variance: 4.9399999999999995\n",
            "Intra-to-Inter Ratio: 0.0\n",
            "\n",
            "For cluster 15:\n",
            "Mean Point: [5.6  4.3  1.45 0.3 ]\n",
            "Variance: 4.53609375\n",
            "Intra-to-Inter Ratio: 2.9499067635496846e-34\n",
            "\n",
            "For cluster 16:\n",
            "Mean Point: [5.4 3.9 1.3 0.4]\n",
            "Variance: 3.9925000000000006\n",
            "Intra-to-Inter Ratio: 0.0\n",
            "\n",
            "For cluster 17:\n",
            "Mean Point: [5.05 3.6  1.55 0.5 ]\n",
            "Variance: 3.1293749999999996\n",
            "Intra-to-Inter Ratio: 0.0\n",
            "\n",
            "For cluster 18:\n",
            "Mean Point: [6.9125   3.1      5.846875 2.13125 ]\n",
            "Variance: 3.947416381835937\n",
            "Intra-to-Inter Ratio: 0.01837141843755639\n",
            "\n",
            "For cluster 19:\n",
            "Mean Point: [5.18 3.88 1.64 0.28]\n",
            "Variance: 3.644474999999999\n",
            "Intra-to-Inter Ratio: 0.0057388942223619965\n"
          ]
        }
      ]
    },
    {
      "cell_type": "code",
      "source": [
        "model = KMeans(K=20, maxIter=15)\n",
        "hist = model.fit(X)   \n",
        "plotX = list(range(len(hist)))\n",
        "plt.plot(plotX, hist)\n",
        "xTicks = [plotX[int((len(plotX) - 1) / 10 * i)] for i in range(10)]\n",
        "plt.xticks(xTicks)\n",
        "plt.show()\n",
        "\n",
        "meanDists, variances = model.getMetrics()\n",
        "interClusterDistances = model.getInterClusterDistances()\n",
        "intraClusterDistances = model.getIntraClusterDistances()\n",
        "for i in range(len(meanDists)):\n",
        "    print('\\nFor cluster %d:' % i)\n",
        "    print('Mean Point:', meanDists[i])\n",
        "    print('Variance:', variances[i])\n",
        "    if type(meanDists[i]) == str:\n",
        "        print('Intra-to-Inter Ratio: Empty Cluster')\n",
        "    else:\n",
        "        print('Intra-to-Inter Ratio:', intraClusterDistances[i] / interClusterDistances[i])"
      ],
      "metadata": {
        "colab": {
          "base_uri": "https://localhost:8080/",
          "height": 1000
        },
        "id": "QH7i41tO1zmE",
        "outputId": "200a6888-4ca7-4633-9cdf-a31d7967f3b1"
      },
      "execution_count": 43,
      "outputs": [
        {
          "output_type": "display_data",
          "data": {
            "image/png": "[encoded data removed]",
            "text/plain": [
              "<Figure size 432x288 with 1 Axes>"
            ]
          },
          "metadata": {
            "needs_background": "light"
          }
        },
        {
          "output_type": "stream",
          "name": "stdout",
          "text": [
            "\n",
            "For cluster 0:\n",
            "Mean Point: [5.1        3.42857143 1.44285714 0.21428571]\n",
            "Variance: 3.492487244897959\n",
            "Intra-to-Inter Ratio: 0.0017292135077124479\n",
            "\n",
            "For cluster 1:\n",
            "Mean Point: [4.92 3.06 1.42 0.22]\n",
            "Variance: 3.1324750000000003\n",
            "Intra-to-Inter Ratio: 0.007346500958401732\n",
            "\n",
            "For cluster 2:\n",
            "Mean Point: [4.6  3.18 1.42 0.2 ]\n",
            "Variance: 2.8165\n",
            "Intra-to-Inter Ratio: 0.0058968961982989124\n",
            "\n",
            "For cluster 3:\n",
            "Mean Point: [5.    2.3   3.275 1.025]\n",
            "Variance: 2.125\n",
            "Intra-to-Inter Ratio: 0.009096304347563691\n",
            "\n",
            "For cluster 4:\n",
            "Mean Point: [4.96666667 3.56666667 1.36666667 0.2       ]\n",
            "Variance: 3.4518750000000007\n",
            "Intra-to-Inter Ratio: 0.0025271302020545314\n",
            "\n",
            "For cluster 5:\n",
            "Mean Point: [6.2525 2.855  4.815  1.625 ]\n",
            "Variance: 3.2447652343749995\n",
            "Intra-to-Inter Ratio: 0.00810248483874434\n",
            "\n",
            "For cluster 6:\n",
            "Mean Point: [4.6  3.5  1.2  0.25]\n",
            "Variance: 3.0410937499999995\n",
            "Intra-to-Inter Ratio: 0.0\n",
            "\n",
            "For cluster 7:\n",
            "Mean Point: [4.925 3.375 1.7   0.325]\n",
            "Variance: 3.0102734374999995\n",
            "Intra-to-Inter Ratio: 0.003761740457197648\n",
            "\n",
            "For cluster 8:\n",
            "Mean Point: [4.5 2.3 1.3 0.3]\n",
            "Variance: 2.42\n",
            "Intra-to-Inter Ratio: 0.0\n",
            "\n",
            "For cluster 9:\n",
            "Mean Point: Empty Cluster\n",
            "Variance: Empty Cluster\n",
            "Intra-to-Inter Ratio: Empty Cluster\n",
            "\n",
            "For cluster 10:\n",
            "Mean Point: [5.45       3.58333333 1.53333333 0.25      ]\n",
            "Variance: 3.9428993055555552\n",
            "Intra-to-Inter Ratio: 0.006615559334188084\n",
            "\n",
            "For cluster 11:\n",
            "Mean Point: [5.62083333 2.69166667 4.075      1.2625    ]\n",
            "Variance: 2.668802083333334\n",
            "Intra-to-Inter Ratio: 0.011899215723381684\n",
            "\n",
            "For cluster 12:\n",
            "Mean Point: [4.83333333 3.06666667 1.5        0.13333333]\n",
            "Variance: 3.0813888888888887\n",
            "Intra-to-Inter Ratio: 0.0006149577030284064\n",
            "\n",
            "For cluster 13:\n",
            "Mean Point: [4.36666667 2.96666667 1.26666667 0.16666667]\n",
            "Variance: 2.5774305555555554\n",
            "Intra-to-Inter Ratio: 0.002784525255033788\n",
            "\n",
            "For cluster 14:\n",
            "Mean Point: [5.8 4.  1.2 0.2]\n",
            "Variance: 4.9399999999999995\n",
            "Intra-to-Inter Ratio: 0.0\n",
            "\n",
            "For cluster 15:\n",
            "Mean Point: [5.6  4.3  1.45 0.3 ]\n",
            "Variance: 4.53609375\n",
            "Intra-to-Inter Ratio: 2.9499067635496846e-34\n",
            "\n",
            "For cluster 16:\n",
            "Mean Point: [5.4 3.9 1.3 0.4]\n",
            "Variance: 3.9925000000000006\n",
            "Intra-to-Inter Ratio: 0.0\n",
            "\n",
            "For cluster 17:\n",
            "Mean Point: [5.05 3.6  1.55 0.5 ]\n",
            "Variance: 3.1293749999999996\n",
            "Intra-to-Inter Ratio: 0.0\n",
            "\n",
            "For cluster 18:\n",
            "Mean Point: [6.9125   3.1      5.846875 2.13125 ]\n",
            "Variance: 3.947416381835937\n",
            "Intra-to-Inter Ratio: 0.01837141843755639\n",
            "\n",
            "For cluster 19:\n",
            "Mean Point: [5.18 3.88 1.64 0.28]\n",
            "Variance: 3.644474999999999\n",
            "Intra-to-Inter Ratio: 0.0057388942223619965\n"
          ]
        }
      ]
    },
    {
      "cell_type": "code",
      "source": [
        ""
      ],
      "metadata": {
        "id": "djqpnFTloXzy"
      },
      "execution_count": null,
      "outputs": []
    }
  ]
}